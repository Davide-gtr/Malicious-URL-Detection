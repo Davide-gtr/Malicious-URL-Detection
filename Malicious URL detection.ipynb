{
 "cells": [
  {
   "cell_type": "markdown",
   "metadata": {},
   "source": [
    "# Malicious URL detection using Kolmogorov Complexity\n",
    "\n",
    "## By Davide Garcia Civiero - MS IA"
   ]
  },
  {
   "cell_type": "code",
   "execution_count": 1,
   "metadata": {},
   "outputs": [],
   "source": [
    "import numpy as np\n",
    "import pandas as pd\n",
    "import matplotlib.pyplot as plt\n",
    "import deflate\n",
    "import time\n",
    "from Levenshtein import distance as lev"
   ]
  },
  {
   "cell_type": "code",
   "execution_count": 2,
   "metadata": {},
   "outputs": [
    {
     "data": {
      "text/html": [
       "<div>\n",
       "<style scoped>\n",
       "    .dataframe tbody tr th:only-of-type {\n",
       "        vertical-align: middle;\n",
       "    }\n",
       "\n",
       "    .dataframe tbody tr th {\n",
       "        vertical-align: top;\n",
       "    }\n",
       "\n",
       "    .dataframe thead th {\n",
       "        text-align: right;\n",
       "    }\n",
       "</style>\n",
       "<table border=\"1\" class=\"dataframe\">\n",
       "  <thead>\n",
       "    <tr style=\"text-align: right;\">\n",
       "      <th></th>\n",
       "      <th>url</th>\n",
       "      <th>type</th>\n",
       "    </tr>\n",
       "  </thead>\n",
       "  <tbody>\n",
       "    <tr>\n",
       "      <th>0</th>\n",
       "      <td>br-icloud.com.br</td>\n",
       "      <td>phishing</td>\n",
       "    </tr>\n",
       "    <tr>\n",
       "      <th>1</th>\n",
       "      <td>mp3raid.com/music/krizz_kaliko.html</td>\n",
       "      <td>benign</td>\n",
       "    </tr>\n",
       "    <tr>\n",
       "      <th>2</th>\n",
       "      <td>bopsecrets.org/rexroth/cr/1.htm</td>\n",
       "      <td>benign</td>\n",
       "    </tr>\n",
       "    <tr>\n",
       "      <th>3</th>\n",
       "      <td>http://www.garage-pirenne.be/index.php?option=...</td>\n",
       "      <td>defacement</td>\n",
       "    </tr>\n",
       "    <tr>\n",
       "      <th>4</th>\n",
       "      <td>http://adventure-nicaragua.net/index.php?optio...</td>\n",
       "      <td>defacement</td>\n",
       "    </tr>\n",
       "  </tbody>\n",
       "</table>\n",
       "</div>"
      ],
      "text/plain": [
       "                                                 url        type\n",
       "0                                   br-icloud.com.br    phishing\n",
       "1                mp3raid.com/music/krizz_kaliko.html      benign\n",
       "2                    bopsecrets.org/rexroth/cr/1.htm      benign\n",
       "3  http://www.garage-pirenne.be/index.php?option=...  defacement\n",
       "4  http://adventure-nicaragua.net/index.php?optio...  defacement"
      ]
     },
     "execution_count": 2,
     "metadata": {},
     "output_type": "execute_result"
    }
   ],
   "source": [
    "df = pd.read_csv('malicious_phish.csv', sep = ',')\n",
    "\n",
    "df.head()"
   ]
  },
  {
   "cell_type": "markdown",
   "metadata": {},
   "source": [
    "### Création des datasets d'entraînement et de test"
   ]
  },
  {
   "cell_type": "code",
   "execution_count": 3,
   "metadata": {},
   "outputs": [],
   "source": [
    "df_train = df[0:7500]\n",
    "df_test = df[7500:10000]"
   ]
  },
  {
   "cell_type": "code",
   "execution_count": 4,
   "metadata": {},
   "outputs": [
    {
     "data": {
      "text/html": [
       "<div>\n",
       "<style scoped>\n",
       "    .dataframe tbody tr th:only-of-type {\n",
       "        vertical-align: middle;\n",
       "    }\n",
       "\n",
       "    .dataframe tbody tr th {\n",
       "        vertical-align: top;\n",
       "    }\n",
       "\n",
       "    .dataframe thead th {\n",
       "        text-align: right;\n",
       "    }\n",
       "</style>\n",
       "<table border=\"1\" class=\"dataframe\">\n",
       "  <thead>\n",
       "    <tr style=\"text-align: right;\">\n",
       "      <th></th>\n",
       "      <th>url</th>\n",
       "      <th>type</th>\n",
       "    </tr>\n",
       "  </thead>\n",
       "  <tbody>\n",
       "    <tr>\n",
       "      <th>0</th>\n",
       "      <td>br-icloud.com.br</td>\n",
       "      <td>phishing</td>\n",
       "    </tr>\n",
       "    <tr>\n",
       "      <th>1</th>\n",
       "      <td>mp3raid.com/music/krizz_kaliko.html</td>\n",
       "      <td>benign</td>\n",
       "    </tr>\n",
       "    <tr>\n",
       "      <th>2</th>\n",
       "      <td>bopsecrets.org/rexroth/cr/1.htm</td>\n",
       "      <td>benign</td>\n",
       "    </tr>\n",
       "    <tr>\n",
       "      <th>3</th>\n",
       "      <td>http://www.garage-pirenne.be/index.php?option=...</td>\n",
       "      <td>defacement</td>\n",
       "    </tr>\n",
       "    <tr>\n",
       "      <th>4</th>\n",
       "      <td>http://adventure-nicaragua.net/index.php?optio...</td>\n",
       "      <td>defacement</td>\n",
       "    </tr>\n",
       "    <tr>\n",
       "      <th>...</th>\n",
       "      <td>...</td>\n",
       "      <td>...</td>\n",
       "    </tr>\n",
       "    <tr>\n",
       "      <th>7495</th>\n",
       "      <td>nndb.com/people/451/000032355/</td>\n",
       "      <td>benign</td>\n",
       "    </tr>\n",
       "    <tr>\n",
       "      <th>7496</th>\n",
       "      <td>superpages.com/bp/Shawnee-KS/Shawnee-Mission-F...</td>\n",
       "      <td>benign</td>\n",
       "    </tr>\n",
       "    <tr>\n",
       "      <th>7497</th>\n",
       "      <td>youtube.com/watch?v=wgkaPrAI660</td>\n",
       "      <td>benign</td>\n",
       "    </tr>\n",
       "    <tr>\n",
       "      <th>7498</th>\n",
       "      <td>kumc.edu/gec/support/hemophil.html</td>\n",
       "      <td>benign</td>\n",
       "    </tr>\n",
       "    <tr>\n",
       "      <th>7499</th>\n",
       "      <td>moragaphonetics.com/</td>\n",
       "      <td>benign</td>\n",
       "    </tr>\n",
       "  </tbody>\n",
       "</table>\n",
       "<p>7500 rows × 2 columns</p>\n",
       "</div>"
      ],
      "text/plain": [
       "                                                    url        type\n",
       "0                                      br-icloud.com.br    phishing\n",
       "1                   mp3raid.com/music/krizz_kaliko.html      benign\n",
       "2                       bopsecrets.org/rexroth/cr/1.htm      benign\n",
       "3     http://www.garage-pirenne.be/index.php?option=...  defacement\n",
       "4     http://adventure-nicaragua.net/index.php?optio...  defacement\n",
       "...                                                 ...         ...\n",
       "7495                     nndb.com/people/451/000032355/      benign\n",
       "7496  superpages.com/bp/Shawnee-KS/Shawnee-Mission-F...      benign\n",
       "7497                    youtube.com/watch?v=wgkaPrAI660      benign\n",
       "7498                 kumc.edu/gec/support/hemophil.html      benign\n",
       "7499                               moragaphonetics.com/      benign\n",
       "\n",
       "[7500 rows x 2 columns]"
      ]
     },
     "execution_count": 4,
     "metadata": {},
     "output_type": "execute_result"
    }
   ],
   "source": [
    "df_train"
   ]
  },
  {
   "cell_type": "code",
   "execution_count": 5,
   "metadata": {},
   "outputs": [
    {
     "data": {
      "text/html": [
       "<div>\n",
       "<style scoped>\n",
       "    .dataframe tbody tr th:only-of-type {\n",
       "        vertical-align: middle;\n",
       "    }\n",
       "\n",
       "    .dataframe tbody tr th {\n",
       "        vertical-align: top;\n",
       "    }\n",
       "\n",
       "    .dataframe thead th {\n",
       "        text-align: right;\n",
       "    }\n",
       "</style>\n",
       "<table border=\"1\" class=\"dataframe\">\n",
       "  <thead>\n",
       "    <tr style=\"text-align: right;\">\n",
       "      <th></th>\n",
       "      <th>url</th>\n",
       "      <th>type</th>\n",
       "    </tr>\n",
       "  </thead>\n",
       "  <tbody>\n",
       "    <tr>\n",
       "      <th>7500</th>\n",
       "      <td>http://alfalfalfa.com/tag/%E3%83%9D%E3%83%86%E...</td>\n",
       "      <td>benign</td>\n",
       "    </tr>\n",
       "    <tr>\n",
       "      <th>7501</th>\n",
       "      <td>http://www.tandemimmobilier.fr/index.php?optio...</td>\n",
       "      <td>defacement</td>\n",
       "    </tr>\n",
       "    <tr>\n",
       "      <th>7502</th>\n",
       "      <td>ted.com/talks/mike_rowe_celebrates_dirty_jobs....</td>\n",
       "      <td>benign</td>\n",
       "    </tr>\n",
       "    <tr>\n",
       "      <th>7503</th>\n",
       "      <td>potholesinmyblog.com/handsome-furs-sound-kapital/</td>\n",
       "      <td>benign</td>\n",
       "    </tr>\n",
       "    <tr>\n",
       "      <th>7504</th>\n",
       "      <td>catholicculture.org/culture/reviews/view.cfm?r...</td>\n",
       "      <td>benign</td>\n",
       "    </tr>\n",
       "    <tr>\n",
       "      <th>...</th>\n",
       "      <td>...</td>\n",
       "      <td>...</td>\n",
       "    </tr>\n",
       "    <tr>\n",
       "      <th>9995</th>\n",
       "      <td>movies.tvguide.com/eastern-promises/285629</td>\n",
       "      <td>benign</td>\n",
       "    </tr>\n",
       "    <tr>\n",
       "      <th>9996</th>\n",
       "      <td>http://themeforest.net/item/moksha-one-multi-p...</td>\n",
       "      <td>benign</td>\n",
       "    </tr>\n",
       "    <tr>\n",
       "      <th>9997</th>\n",
       "      <td>flaggedrevs.labs.wikimedia.org/wiki/New_York_S...</td>\n",
       "      <td>benign</td>\n",
       "    </tr>\n",
       "    <tr>\n",
       "      <th>9998</th>\n",
       "      <td>thetakeaway.org/people/victor-begg/</td>\n",
       "      <td>benign</td>\n",
       "    </tr>\n",
       "    <tr>\n",
       "      <th>9999</th>\n",
       "      <td>thesaurus1.classic.reference.com/roget/VI/898....</td>\n",
       "      <td>benign</td>\n",
       "    </tr>\n",
       "  </tbody>\n",
       "</table>\n",
       "<p>2500 rows × 2 columns</p>\n",
       "</div>"
      ],
      "text/plain": [
       "                                                    url        type\n",
       "7500  http://alfalfalfa.com/tag/%E3%83%9D%E3%83%86%E...      benign\n",
       "7501  http://www.tandemimmobilier.fr/index.php?optio...  defacement\n",
       "7502  ted.com/talks/mike_rowe_celebrates_dirty_jobs....      benign\n",
       "7503  potholesinmyblog.com/handsome-furs-sound-kapital/      benign\n",
       "7504  catholicculture.org/culture/reviews/view.cfm?r...      benign\n",
       "...                                                 ...         ...\n",
       "9995         movies.tvguide.com/eastern-promises/285629      benign\n",
       "9996  http://themeforest.net/item/moksha-one-multi-p...      benign\n",
       "9997  flaggedrevs.labs.wikimedia.org/wiki/New_York_S...      benign\n",
       "9998                thetakeaway.org/people/victor-begg/      benign\n",
       "9999  thesaurus1.classic.reference.com/roget/VI/898....      benign\n",
       "\n",
       "[2500 rows x 2 columns]"
      ]
     },
     "execution_count": 5,
     "metadata": {},
     "output_type": "execute_result"
    }
   ],
   "source": [
    "df_test"
   ]
  },
  {
   "cell_type": "code",
   "execution_count": 6,
   "metadata": {},
   "outputs": [
    {
     "name": "stdout",
     "output_type": "stream",
     "text": [
      "Le dataset d'entraînement contient 7500 URLs\n",
      "Le dataset de test contient 2500 URLs\n"
     ]
    }
   ],
   "source": [
    "print(\"Le dataset d'entraînement contient {} URLs\".format(len(df_train)))\n",
    "print(\"Le dataset de test contient {} URLs\".format(len(df_test)))"
   ]
  },
  {
   "cell_type": "markdown",
   "metadata": {},
   "source": [
    "### Division du dataset en deux \"sous-datasets\" : malicieux et bénin"
   ]
  },
  {
   "cell_type": "code",
   "execution_count": 7,
   "metadata": {},
   "outputs": [],
   "source": [
    "# Stockage des URL malicieux et bénins du dataset train\n",
    "data_m = list()  # dataset malicieux\n",
    "data_b = list()  # dataset bénin\n",
    "data_train = list()  # liste contenant tous les URL d'entraînement\n",
    "\n",
    "label_train_true = list()  # liste avec les vrais labels\n",
    "\n",
    "for idx, row in df_train.iterrows():\n",
    "    if row[1] == 'benign':\n",
    "        data_b.append(row[0])\n",
    "        label_train_true.append(1)\n",
    "    else:\n",
    "        data_m.append(row[0])\n",
    "        label_train_true.append(-1)\n",
    "        \n",
    "    data_train.append(row[0])"
   ]
  },
  {
   "cell_type": "code",
   "execution_count": 8,
   "metadata": {},
   "outputs": [],
   "source": [
    "# On récupère les labels des URL du dataset TEST\n",
    "label_test_true = list()\n",
    "data_test = list()  # dataset de test\n",
    "\n",
    "for idx, row in df_test.iterrows():\n",
    "    if row[1] == 'benign':\n",
    "        label_test_true.append(1)\n",
    "    else:\n",
    "        label_test_true.append(-1)\n",
    "    data_test.append(row[0])"
   ]
  },
  {
   "cell_type": "code",
   "execution_count": 9,
   "metadata": {},
   "outputs": [
    {
     "name": "stdout",
     "output_type": "stream",
     "text": [
      "Il y a 5498 URLs bénins\n",
      "Il y a 2002 URLs malicieux\n"
     ]
    }
   ],
   "source": [
    "print(\"Il y a {} URLs bénins\".format(len(data_b)))\n",
    "print(\"Il y a {} URLs malicieux\".format(len(data_m)))"
   ]
  },
  {
   "cell_type": "markdown",
   "metadata": {},
   "source": [
    "## Implémentation de l'algorithme de détection d'URL malicieux"
   ]
  },
  {
   "cell_type": "code",
   "execution_count": 10,
   "metadata": {},
   "outputs": [],
   "source": [
    "def predict(dataset):\n",
    "    # Concatene tous les éléments des deux datasets\n",
    "    d_m = ''.join(data_m)\n",
    "    d_b = ''.join(data_b)\n",
    "    \n",
    "    # liste des labels des urls (-1 = malicieux ou 1 = bénin)\n",
    "    url_labels = list()\n",
    "\n",
    "    # Boucle sur tous les éléments du dataset\n",
    "    for url in dataset:\n",
    "        # Concaténer d_m et s, puis d_b et s\n",
    "        d_ms = d_m + url\n",
    "        d_bs = d_b + url\n",
    "\n",
    "        # Compression de d_ms et d_bs\n",
    "        comp_dms = deflate.gzip_compress(bytes(d_ms, 'utf-8'))\n",
    "        comp_dbs = deflate.gzip_compress(bytes(d_bs, 'utf-8'))\n",
    "\n",
    "        comp_dm = deflate.gzip_compress(bytes(d_m, 'utf-8'))\n",
    "        comp_db = deflate.gzip_compress(bytes(d_b, 'utf-8'))\n",
    "\n",
    "        # Longueur des compressions\n",
    "        g_dms = len(comp_dms)\n",
    "        g_dbs = len(comp_dbs)\n",
    "\n",
    "        # Calcul du ratio m\n",
    "        g_dm = len(comp_dm)\n",
    "        g_db = len(comp_db)\n",
    "\n",
    "        g_s_dm = g_dms - g_dm  # g(s|dm)\n",
    "        g_s_db = g_dbs - g_db  # g(s|db)\n",
    "\n",
    "        m_ratio = (g_s_dm - g_s_db) / (g_s_dm + g_s_db)\n",
    "\n",
    "        # Classification\n",
    "        if m_ratio < 0:\n",
    "            url_labels.append(-1)\n",
    "        else:\n",
    "            url_labels.append(1)\n",
    "            \n",
    "    return url_labels"
   ]
  },
  {
   "cell_type": "code",
   "execution_count": 11,
   "metadata": {},
   "outputs": [],
   "source": [
    "def accuracy(labels_true, labels_pred):\n",
    "    counter = 0\n",
    "    for i in range(len(labels_pred)):\n",
    "        if labels_true[i] == labels_pred[i]:\n",
    "            counter += 1\n",
    "    print(\"Le taux de précision est de {}%\".format(counter/len(labels_pred) * 100))\n",
    "    \n",
    "    return"
   ]
  },
  {
   "cell_type": "markdown",
   "metadata": {},
   "source": [
    "### Résultats sur le dataset train"
   ]
  },
  {
   "cell_type": "code",
   "execution_count": 12,
   "metadata": {},
   "outputs": [
    {
     "name": "stdout",
     "output_type": "stream",
     "text": [
      "Le taux de précision est de 93.37333333333333%\n",
      "Temps d'exécution 120.876 secondes\n"
     ]
    }
   ],
   "source": [
    "start_time = time.time()\n",
    "\n",
    "url_labels_train = predict(data_train)\n",
    "accuracy(label_train_true, url_labels_train)\n",
    "\n",
    "print(\"Temps d'exécution {} secondes\".format(round(time.time() - start_time, 3)))"
   ]
  },
  {
   "cell_type": "markdown",
   "metadata": {},
   "source": [
    "### Résultats sur le dataset test"
   ]
  },
  {
   "cell_type": "code",
   "execution_count": 13,
   "metadata": {},
   "outputs": [
    {
     "name": "stdout",
     "output_type": "stream",
     "text": [
      "Le taux de précision est de 90.88000000000001%\n",
      "Temps d'exécution 42.071 secondes\n"
     ]
    }
   ],
   "source": [
    "start_time = time.time()\n",
    "\n",
    "url_labels_test = predict(data_test)\n",
    "accuracy(label_test_true, url_labels_test)\n",
    "\n",
    "print(\"Temps d'exécution {} secondes\".format(round(time.time() - start_time, 3)))"
   ]
  },
  {
   "cell_type": "markdown",
   "metadata": {},
   "source": [
    "## Application de la distance de Levenshtein"
   ]
  },
  {
   "cell_type": "code",
   "execution_count": 14,
   "metadata": {},
   "outputs": [],
   "source": [
    "# Constitution des datasets d'entraînement et de test\n",
    "\n",
    "df_train = df[0:7500]\n",
    "df_test = df[7500:10000]\n",
    "\n",
    "# Stockage des URL malicieux et bénins du dataset train\n",
    "data_m = list()  # dataset malicieux\n",
    "data_b = list()  # dataset bénin\n",
    "data_train = list()  # liste contenant tous les URL d'entraînement\n",
    "\n",
    "label_train_true = list()  # liste avec les vrais labels\n",
    "\n",
    "for idx, row in df_train.iterrows():\n",
    "    if row[1] == 'benign':\n",
    "        data_b.append(row[0])\n",
    "        label_train_true.append(1)\n",
    "    else:\n",
    "        data_m.append(row[0])\n",
    "        label_train_true.append(-1)\n",
    "        \n",
    "    data_train.append(row[0])\n",
    "\n",
    "# On récupère les labels des URL du dataset TEST\n",
    "label_test_true = list()\n",
    "data_test = list()  # dataset de test\n",
    "\n",
    "for idx, row in df_test.iterrows():\n",
    "    if row[1] == 'benign':\n",
    "        label_test_true.append(1)\n",
    "    else:\n",
    "        label_test_true.append(-1)\n",
    "    data_test.append(row[0])"
   ]
  },
  {
   "cell_type": "code",
   "execution_count": 15,
   "metadata": {},
   "outputs": [
    {
     "name": "stdout",
     "output_type": "stream",
     "text": [
      "Le dataset d'entraînement contient 7500 URLs\n",
      "Le dataset de test contient 2500 URLs\n"
     ]
    }
   ],
   "source": [
    "print(\"Le dataset d'entraînement contient {} URLs\".format(len(df_train)))\n",
    "print(\"Le dataset de test contient {} URLs\".format(len(df_test)))"
   ]
  },
  {
   "cell_type": "code",
   "execution_count": 16,
   "metadata": {},
   "outputs": [],
   "source": [
    "def predict_lev(dataset):\n",
    "    # Concatene tous les éléments des deux datasets\n",
    "    d_m = ''.join(data_m)\n",
    "    d_b = ''.join(data_b)\n",
    "    \n",
    "    # liste des labels des urls (-1 = malicieux ou 1 = bénin)\n",
    "    url_labels = list()\n",
    "\n",
    "    # Boucle sur tous les éléments du dataset\n",
    "    for url in dataset:\n",
    "        # Concaténer d_m et s, puis d_b et s\n",
    "        d_ms = d_m + url\n",
    "        d_bs = d_b + url\n",
    "        \n",
    "        # Distance de Levenshtein entre DMS et DM / DBS et DB\n",
    "        g_s_dm = lev(d_ms, d_m)\n",
    "        g_s_db = lev(d_bs, d_b)\n",
    "        m_ratio = (g_s_dm - g_s_db) / (g_s_dm + g_s_db)\n",
    "\n",
    "        # Classification\n",
    "        if m_ratio < 0:\n",
    "            url_labels.append(-1)\n",
    "        else:\n",
    "            url_labels.append(1)\n",
    "            \n",
    "    return url_labels"
   ]
  },
  {
   "cell_type": "code",
   "execution_count": 17,
   "metadata": {},
   "outputs": [
    {
     "name": "stdout",
     "output_type": "stream",
     "text": [
      "Le taux de précision est de 73.30666666666666%\n",
      "Temps d'exécution 2.521 secondes\n"
     ]
    }
   ],
   "source": [
    "start_time = time.time()\n",
    "\n",
    "url_labels_train = predict_lev(data_train)\n",
    "accuracy(label_train_true, url_labels_train)\n",
    "\n",
    "print(\"Temps d'exécution {} secondes\".format(round(time.time() - start_time, 3)))"
   ]
  },
  {
   "cell_type": "code",
   "execution_count": 18,
   "metadata": {},
   "outputs": [
    {
     "name": "stdout",
     "output_type": "stream",
     "text": [
      "Le taux de précision est de 73.08%\n",
      "Temps d'exécution 0.879 secondes\n"
     ]
    }
   ],
   "source": [
    "start_time = time.time()\n",
    "\n",
    "url_labels_test = predict_lev(data_test)\n",
    "accuracy(label_test_true, url_labels_test)\n",
    "\n",
    "print(\"Temps d'exécution {} secondes\".format(round(time.time() - start_time, 3)))"
   ]
  },
  {
   "cell_type": "code",
   "execution_count": null,
   "metadata": {},
   "outputs": [],
   "source": []
  }
 ],
 "metadata": {
  "kernelspec": {
   "display_name": "Python 3",
   "language": "python",
   "name": "python3"
  },
  "language_info": {
   "codemirror_mode": {
    "name": "ipython",
    "version": 3
   },
   "file_extension": ".py",
   "mimetype": "text/x-python",
   "name": "python",
   "nbconvert_exporter": "python",
   "pygments_lexer": "ipython3",
   "version": "3.8.5"
  }
 },
 "nbformat": 4,
 "nbformat_minor": 4
}
